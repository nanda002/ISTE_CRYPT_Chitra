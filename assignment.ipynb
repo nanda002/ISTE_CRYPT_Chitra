{
  "nbformat": 4,
  "nbformat_minor": 0,
  "metadata": {
    "colab": {
      "provenance": []
    },
    "kernelspec": {
      "name": "python3",
      "display_name": "Python 3"
    },
    "language_info": {
      "name": "python"
    },
    "accelerator": "GPU",
    "gpuClass": "standard"
  },
  "cells": [
    {
      "cell_type": "markdown",
      "source": [
        "**Binary Classification Problem**"
      ],
      "metadata": {
        "id": "ZF3MkF-Os7Qz"
      }
    },
    {
      "cell_type": "code",
      "source": [
        "\n",
        "from sklearn import datasets\n",
        "from sklearn.model_selection import train_test_split\n",
        "import tensorflow as tf\n",
        "import numpy as np\n",
        "from tensorflow import keras\n",
        "import pandas\n",
        "import matplotlib.pyplot as plt\n",
        "from tensorflow.keras.models import Sequential"
      ],
      "metadata": {
        "id": "dgFZEH7Bs4vr"
      },
      "execution_count": 50,
      "outputs": []
    },
    {
      "cell_type": "code",
      "source": [
        "data_br = datasets.load_breast_cancer()"
      ],
      "metadata": {
        "id": "tMBjudQ9p_C2"
      },
      "execution_count": 51,
      "outputs": []
    },
    {
      "cell_type": "code",
      "source": [
        "X=data_br.data\n",
        "Y=data_br.target"
      ],
      "metadata": {
        "id": "X-PlXKwlqlUm"
      },
      "execution_count": 52,
      "outputs": []
    },
    {
      "cell_type": "code",
      "source": [
        "X_train, X_test, y_train, y_test = train_test_split(X, Y, test_size=0.33, random_state=42)"
      ],
      "metadata": {
        "id": "v1uTmwourZgb"
      },
      "execution_count": 53,
      "outputs": []
    },
    {
      "cell_type": "code",
      "source": [
        "type(X_train)\n",
        "y_train.shape\n"
      ],
      "metadata": {
        "id": "hLKFlXc9q1MF",
        "colab": {
          "base_uri": "https://localhost:8080/"
        },
        "outputId": "4d0fdaa8-9482-4723-9e2f-46c07e15facb"
      },
      "execution_count": 54,
      "outputs": [
        {
          "output_type": "execute_result",
          "data": {
            "text/plain": [
              "(381,)"
            ]
          },
          "metadata": {},
          "execution_count": 54
        }
      ]
    },
    {
      "cell_type": "markdown",
      "source": [
        "https://www.tensorflow.org/tutorials/keras/classification\n",
        "\n",
        "Refer this documentation for building ,compiling and training a model.\n",
        "Can read other things also but these three are the important topics to be read from the documentation."
      ],
      "metadata": {
        "id": "n0fdNMW-rYO8"
      }
    },
    {
      "cell_type": "code",
      "source": [
        "# Build the Model here\n",
        "\n",
        "model = tf.keras.Sequential([\n",
        "    tf.keras.layers.Dense(60, activation='relu'),\n",
        "    tf.keras.layers.Dense(40, activation='relu'),\n",
        "    tf.keras.layers.Dense(20, activation='relu'),\n",
        "    tf.keras.layers.Dense(3, activation='softmax'),\n",
        "])\n"
      ],
      "metadata": {
        "id": "2PP3SP5asDir"
      },
      "execution_count": 55,
      "outputs": []
    },
    {
      "cell_type": "code",
      "source": [
        "# Compile the model here\n",
        "\n",
        "model.compile(optimizer='adam',\n",
        "              loss = 'sparse_categorical_crossentropy',\n",
        "              metrics=['accuracy'])\n"
      ],
      "metadata": {
        "id": "0AbnRRChsG4U"
      },
      "execution_count": 56,
      "outputs": []
    },
    {
      "cell_type": "code",
      "source": [
        "# Train the model on X_train with y_train as label\n",
        "\n",
        "X_train = np.array(X_train)\n",
        "y_train = np.array(y_train)\n",
        "type(y_train)\n",
        "model.fit(X_train , y_train , epochs=100)"
      ],
      "metadata": {
        "id": "ph2xZUDVsL_N",
        "colab": {
          "base_uri": "https://localhost:8080/"
        },
        "outputId": "879164e5-99a4-44fc-cfe8-4387ac921fdc"
      },
      "execution_count": 57,
      "outputs": [
        {
          "output_type": "stream",
          "name": "stdout",
          "text": [
            "Epoch 1/100\n",
            "12/12 [==============================] - 0s 3ms/step - loss: 41.7180 - accuracy: 0.4068\n",
            "Epoch 2/100\n",
            "12/12 [==============================] - 0s 3ms/step - loss: 4.4196 - accuracy: 0.4226\n",
            "Epoch 3/100\n",
            "12/12 [==============================] - 0s 3ms/step - loss: 1.9345 - accuracy: 0.6562\n",
            "Epoch 4/100\n",
            "12/12 [==============================] - 0s 3ms/step - loss: 0.9896 - accuracy: 0.7717\n",
            "Epoch 5/100\n",
            "12/12 [==============================] - 0s 3ms/step - loss: 0.8230 - accuracy: 0.7900\n",
            "Epoch 6/100\n",
            "12/12 [==============================] - 0s 2ms/step - loss: 0.7812 - accuracy: 0.7612\n",
            "Epoch 7/100\n",
            "12/12 [==============================] - 0s 2ms/step - loss: 0.6939 - accuracy: 0.8215\n",
            "Epoch 8/100\n",
            "12/12 [==============================] - 0s 3ms/step - loss: 0.5434 - accuracy: 0.8504\n",
            "Epoch 9/100\n",
            "12/12 [==============================] - 0s 3ms/step - loss: 0.4892 - accuracy: 0.8609\n",
            "Epoch 10/100\n",
            "12/12 [==============================] - 0s 3ms/step - loss: 0.4228 - accuracy: 0.8740\n",
            "Epoch 11/100\n",
            "12/12 [==============================] - 0s 5ms/step - loss: 0.4117 - accuracy: 0.8793\n",
            "Epoch 12/100\n",
            "12/12 [==============================] - 0s 4ms/step - loss: 0.3666 - accuracy: 0.8898\n",
            "Epoch 13/100\n",
            "12/12 [==============================] - 0s 4ms/step - loss: 0.3464 - accuracy: 0.8845\n",
            "Epoch 14/100\n",
            "12/12 [==============================] - 0s 3ms/step - loss: 0.3430 - accuracy: 0.8976\n",
            "Epoch 15/100\n",
            "12/12 [==============================] - 0s 3ms/step - loss: 0.3213 - accuracy: 0.8950\n",
            "Epoch 16/100\n",
            "12/12 [==============================] - 0s 3ms/step - loss: 0.3373 - accuracy: 0.8976\n",
            "Epoch 17/100\n",
            "12/12 [==============================] - 0s 4ms/step - loss: 0.3602 - accuracy: 0.8635\n",
            "Epoch 18/100\n",
            "12/12 [==============================] - 0s 3ms/step - loss: 0.3166 - accuracy: 0.9003\n",
            "Epoch 19/100\n",
            "12/12 [==============================] - 0s 4ms/step - loss: 0.3149 - accuracy: 0.8845\n",
            "Epoch 20/100\n",
            "12/12 [==============================] - 0s 3ms/step - loss: 0.3265 - accuracy: 0.8793\n",
            "Epoch 21/100\n",
            "12/12 [==============================] - 0s 3ms/step - loss: 0.2868 - accuracy: 0.8898\n",
            "Epoch 22/100\n",
            "12/12 [==============================] - 0s 3ms/step - loss: 0.2721 - accuracy: 0.8976\n",
            "Epoch 23/100\n",
            "12/12 [==============================] - 0s 3ms/step - loss: 0.2739 - accuracy: 0.8976\n",
            "Epoch 24/100\n",
            "12/12 [==============================] - 0s 3ms/step - loss: 0.3076 - accuracy: 0.8819\n",
            "Epoch 25/100\n",
            "12/12 [==============================] - 0s 4ms/step - loss: 0.2642 - accuracy: 0.9081\n",
            "Epoch 26/100\n",
            "12/12 [==============================] - 0s 3ms/step - loss: 0.2672 - accuracy: 0.9081\n",
            "Epoch 27/100\n",
            "12/12 [==============================] - 0s 3ms/step - loss: 0.2462 - accuracy: 0.8976\n",
            "Epoch 28/100\n",
            "12/12 [==============================] - 0s 4ms/step - loss: 0.2895 - accuracy: 0.8976\n",
            "Epoch 29/100\n",
            "12/12 [==============================] - 0s 4ms/step - loss: 0.3734 - accuracy: 0.8530\n",
            "Epoch 30/100\n",
            "12/12 [==============================] - 0s 4ms/step - loss: 0.2603 - accuracy: 0.8976\n",
            "Epoch 31/100\n",
            "12/12 [==============================] - 0s 4ms/step - loss: 0.2593 - accuracy: 0.9029\n",
            "Epoch 32/100\n",
            "12/12 [==============================] - 0s 4ms/step - loss: 0.2366 - accuracy: 0.9081\n",
            "Epoch 33/100\n",
            "12/12 [==============================] - 0s 3ms/step - loss: 0.2397 - accuracy: 0.9081\n",
            "Epoch 34/100\n",
            "12/12 [==============================] - 0s 3ms/step - loss: 0.2189 - accuracy: 0.9134\n",
            "Epoch 35/100\n",
            "12/12 [==============================] - 0s 3ms/step - loss: 0.3129 - accuracy: 0.8819\n",
            "Epoch 36/100\n",
            "12/12 [==============================] - 0s 3ms/step - loss: 0.2780 - accuracy: 0.8976\n",
            "Epoch 37/100\n",
            "12/12 [==============================] - 0s 4ms/step - loss: 0.2507 - accuracy: 0.9081\n",
            "Epoch 38/100\n",
            "12/12 [==============================] - 0s 3ms/step - loss: 0.2337 - accuracy: 0.8898\n",
            "Epoch 39/100\n",
            "12/12 [==============================] - 0s 3ms/step - loss: 0.2330 - accuracy: 0.9160\n",
            "Epoch 40/100\n",
            "12/12 [==============================] - 0s 3ms/step - loss: 0.2701 - accuracy: 0.8950\n",
            "Epoch 41/100\n",
            "12/12 [==============================] - 0s 3ms/step - loss: 0.2415 - accuracy: 0.8976\n",
            "Epoch 42/100\n",
            "12/12 [==============================] - 0s 3ms/step - loss: 0.2790 - accuracy: 0.8950\n",
            "Epoch 43/100\n",
            "12/12 [==============================] - 0s 3ms/step - loss: 0.3503 - accuracy: 0.8845\n",
            "Epoch 44/100\n",
            "12/12 [==============================] - 0s 3ms/step - loss: 0.2218 - accuracy: 0.9160\n",
            "Epoch 45/100\n",
            "12/12 [==============================] - 0s 4ms/step - loss: 0.2239 - accuracy: 0.9160\n",
            "Epoch 46/100\n",
            "12/12 [==============================] - 0s 4ms/step - loss: 0.2284 - accuracy: 0.9108\n",
            "Epoch 47/100\n",
            "12/12 [==============================] - 0s 3ms/step - loss: 0.2119 - accuracy: 0.9186\n",
            "Epoch 48/100\n",
            "12/12 [==============================] - 0s 3ms/step - loss: 0.2427 - accuracy: 0.9134\n",
            "Epoch 49/100\n",
            "12/12 [==============================] - 0s 4ms/step - loss: 0.3009 - accuracy: 0.8950\n",
            "Epoch 50/100\n",
            "12/12 [==============================] - 0s 4ms/step - loss: 0.2458 - accuracy: 0.8976\n",
            "Epoch 51/100\n",
            "12/12 [==============================] - 0s 4ms/step - loss: 0.3746 - accuracy: 0.8451\n",
            "Epoch 52/100\n",
            "12/12 [==============================] - 0s 4ms/step - loss: 0.4405 - accuracy: 0.8451\n",
            "Epoch 53/100\n",
            "12/12 [==============================] - 0s 3ms/step - loss: 0.3002 - accuracy: 0.9003\n",
            "Epoch 54/100\n",
            "12/12 [==============================] - 0s 3ms/step - loss: 0.2231 - accuracy: 0.9160\n",
            "Epoch 55/100\n",
            "12/12 [==============================] - 0s 3ms/step - loss: 0.2190 - accuracy: 0.9081\n",
            "Epoch 56/100\n",
            "12/12 [==============================] - 0s 4ms/step - loss: 0.2953 - accuracy: 0.8950\n",
            "Epoch 57/100\n",
            "12/12 [==============================] - 0s 4ms/step - loss: 0.4731 - accuracy: 0.8346\n",
            "Epoch 58/100\n",
            "12/12 [==============================] - 0s 4ms/step - loss: 0.3727 - accuracy: 0.8635\n",
            "Epoch 59/100\n",
            "12/12 [==============================] - 0s 4ms/step - loss: 0.2526 - accuracy: 0.9134\n",
            "Epoch 60/100\n",
            "12/12 [==============================] - 0s 3ms/step - loss: 0.2453 - accuracy: 0.9186\n",
            "Epoch 61/100\n",
            "12/12 [==============================] - 0s 3ms/step - loss: 0.3280 - accuracy: 0.9029\n",
            "Epoch 62/100\n",
            "12/12 [==============================] - 0s 3ms/step - loss: 0.2134 - accuracy: 0.9160\n",
            "Epoch 63/100\n",
            "12/12 [==============================] - 0s 3ms/step - loss: 0.2137 - accuracy: 0.9213\n",
            "Epoch 64/100\n",
            "12/12 [==============================] - 0s 3ms/step - loss: 0.2133 - accuracy: 0.9160\n",
            "Epoch 65/100\n",
            "12/12 [==============================] - 0s 3ms/step - loss: 0.2757 - accuracy: 0.8950\n",
            "Epoch 66/100\n",
            "12/12 [==============================] - 0s 3ms/step - loss: 0.3458 - accuracy: 0.8688\n",
            "Epoch 67/100\n",
            "12/12 [==============================] - 0s 3ms/step - loss: 0.2429 - accuracy: 0.9134\n",
            "Epoch 68/100\n",
            "12/12 [==============================] - 0s 3ms/step - loss: 0.2655 - accuracy: 0.9160\n",
            "Epoch 69/100\n",
            "12/12 [==============================] - 0s 3ms/step - loss: 0.2198 - accuracy: 0.9081\n",
            "Epoch 70/100\n",
            "12/12 [==============================] - 0s 3ms/step - loss: 0.2399 - accuracy: 0.9134\n",
            "Epoch 71/100\n",
            "12/12 [==============================] - 0s 4ms/step - loss: 0.3473 - accuracy: 0.8740\n",
            "Epoch 72/100\n",
            "12/12 [==============================] - 0s 3ms/step - loss: 0.2074 - accuracy: 0.9265\n",
            "Epoch 73/100\n",
            "12/12 [==============================] - 0s 3ms/step - loss: 0.2082 - accuracy: 0.9108\n",
            "Epoch 74/100\n",
            "12/12 [==============================] - 0s 3ms/step - loss: 0.2357 - accuracy: 0.9160\n",
            "Epoch 75/100\n",
            "12/12 [==============================] - 0s 3ms/step - loss: 0.2047 - accuracy: 0.9291\n",
            "Epoch 76/100\n",
            "12/12 [==============================] - 0s 3ms/step - loss: 0.2551 - accuracy: 0.9160\n",
            "Epoch 77/100\n",
            "12/12 [==============================] - 0s 3ms/step - loss: 0.2271 - accuracy: 0.9291\n",
            "Epoch 78/100\n",
            "12/12 [==============================] - 0s 3ms/step - loss: 0.1953 - accuracy: 0.9239\n",
            "Epoch 79/100\n",
            "12/12 [==============================] - 0s 3ms/step - loss: 0.1941 - accuracy: 0.9213\n",
            "Epoch 80/100\n",
            "12/12 [==============================] - 0s 3ms/step - loss: 0.2175 - accuracy: 0.9134\n",
            "Epoch 81/100\n",
            "12/12 [==============================] - 0s 3ms/step - loss: 0.1908 - accuracy: 0.9265\n",
            "Epoch 82/100\n",
            "12/12 [==============================] - 0s 2ms/step - loss: 0.2024 - accuracy: 0.9160\n",
            "Epoch 83/100\n",
            "12/12 [==============================] - 0s 3ms/step - loss: 0.2328 - accuracy: 0.9160\n",
            "Epoch 84/100\n",
            "12/12 [==============================] - 0s 3ms/step - loss: 0.2103 - accuracy: 0.9318\n",
            "Epoch 85/100\n",
            "12/12 [==============================] - 0s 3ms/step - loss: 0.1806 - accuracy: 0.9291\n",
            "Epoch 86/100\n",
            "12/12 [==============================] - 0s 3ms/step - loss: 0.2411 - accuracy: 0.9186\n",
            "Epoch 87/100\n",
            "12/12 [==============================] - 0s 3ms/step - loss: 0.2014 - accuracy: 0.9291\n",
            "Epoch 88/100\n",
            "12/12 [==============================] - 0s 3ms/step - loss: 0.1941 - accuracy: 0.9186\n",
            "Epoch 89/100\n",
            "12/12 [==============================] - 0s 3ms/step - loss: 0.2022 - accuracy: 0.9239\n",
            "Epoch 90/100\n",
            "12/12 [==============================] - 0s 2ms/step - loss: 0.1884 - accuracy: 0.9160\n",
            "Epoch 91/100\n",
            "12/12 [==============================] - 0s 3ms/step - loss: 0.2285 - accuracy: 0.9186\n",
            "Epoch 92/100\n",
            "12/12 [==============================] - 0s 3ms/step - loss: 0.1978 - accuracy: 0.9265\n",
            "Epoch 93/100\n",
            "12/12 [==============================] - 0s 2ms/step - loss: 0.1969 - accuracy: 0.9265\n",
            "Epoch 94/100\n",
            "12/12 [==============================] - 0s 3ms/step - loss: 0.2316 - accuracy: 0.9134\n",
            "Epoch 95/100\n",
            "12/12 [==============================] - 0s 3ms/step - loss: 0.4067 - accuracy: 0.8530\n",
            "Epoch 96/100\n",
            "12/12 [==============================] - 0s 3ms/step - loss: 0.4011 - accuracy: 0.8556\n",
            "Epoch 97/100\n",
            "12/12 [==============================] - 0s 3ms/step - loss: 0.3873 - accuracy: 0.8871\n",
            "Epoch 98/100\n",
            "12/12 [==============================] - 0s 3ms/step - loss: 0.2201 - accuracy: 0.9265\n",
            "Epoch 99/100\n",
            "12/12 [==============================] - 0s 3ms/step - loss: 0.2955 - accuracy: 0.9029\n",
            "Epoch 100/100\n",
            "12/12 [==============================] - 0s 2ms/step - loss: 0.2086 - accuracy: 0.9213\n"
          ]
        },
        {
          "output_type": "execute_result",
          "data": {
            "text/plain": [
              "<keras.callbacks.History at 0x7fb1d03383d0>"
            ]
          },
          "metadata": {},
          "execution_count": 57
        }
      ]
    },
    {
      "cell_type": "code",
      "source": [
        "# use the model to predict ouput for input=X_test\n",
        "\n",
        "predictions = model.evaluate(X_test,y_test,verbose=2)\n",
        "prediction = model.predict(X_test)\n",
        "np.argmax(prediction[0])"
      ],
      "metadata": {
        "id": "uGZUtgYpsRXk",
        "colab": {
          "base_uri": "https://localhost:8080/"
        },
        "outputId": "26191dff-f655-4a5b-a1f0-dc59ddf5c11f"
      },
      "execution_count": 58,
      "outputs": [
        {
          "output_type": "stream",
          "name": "stdout",
          "text": [
            "6/6 - 0s - loss: 0.1098 - accuracy: 0.9628 - 133ms/epoch - 22ms/step\n",
            "6/6 [==============================] - 0s 2ms/step\n"
          ]
        },
        {
          "output_type": "execute_result",
          "data": {
            "text/plain": [
              "0"
            ]
          },
          "metadata": {},
          "execution_count": 58
        }
      ]
    },
    {
      "cell_type": "code",
      "source": [
        "# Compare the ouput with y_test\n",
        "\n",
        "y_test[0]"
      ],
      "metadata": {
        "id": "-_kfDexVsW1U",
        "colab": {
          "base_uri": "https://localhost:8080/"
        },
        "outputId": "991a0369-d689-4ec4-cad3-4b8c8744df8f"
      },
      "execution_count": 59,
      "outputs": [
        {
          "output_type": "execute_result",
          "data": {
            "text/plain": [
              "1"
            ]
          },
          "metadata": {},
          "execution_count": 59
        }
      ]
    },
    {
      "cell_type": "markdown",
      "source": [
        "Now that you have done binary classification.\n",
        "\n",
        "**Try multiclass classification.**\n",
        "\n",
        "The dataset to be used in the iris dataset.\n",
        "\n",
        "iris=dataset.load_iris() This is the way to get the dataset from sklearn.\n",
        "Then build, compile and train the model and also test it on the test data."
      ],
      "metadata": {
        "id": "HS1DQCUWtCPj"
      }
    },
    {
      "cell_type": "code",
      "source": [
        "# Code Here\n",
        "\n",
        "iris = datasets.load_iris()"
      ],
      "metadata": {
        "id": "ys0XrG1Rtjrt"
      },
      "execution_count": 60,
      "outputs": []
    },
    {
      "cell_type": "code",
      "source": [
        "X1 = iris.data\n",
        "X_temp = X1\n",
        "Y1 = iris.target\n",
        "\n",
        "X_train_1,X_test_1,Y_train_1,Y_test_1 = train_test_split(X1 ,Y1 ,test_size=0.3)"
      ],
      "metadata": {
        "id": "0YBJyL-ucx2-"
      },
      "execution_count": 61,
      "outputs": []
    },
    {
      "cell_type": "code",
      "source": [
        "X_temp = pandas.DataFrame(X_temp)\n",
        "X_temp.head(50)"
      ],
      "metadata": {
        "id": "TkwQCacHdMNt",
        "colab": {
          "base_uri": "https://localhost:8080/",
          "height": 1000
        },
        "outputId": "a6d80be0-ee3e-4fa8-cf1d-8bac5df63f8e"
      },
      "execution_count": 62,
      "outputs": [
        {
          "output_type": "execute_result",
          "data": {
            "text/plain": [
              "      0    1    2    3\n",
              "0   5.1  3.5  1.4  0.2\n",
              "1   4.9  3.0  1.4  0.2\n",
              "2   4.7  3.2  1.3  0.2\n",
              "3   4.6  3.1  1.5  0.2\n",
              "4   5.0  3.6  1.4  0.2\n",
              "5   5.4  3.9  1.7  0.4\n",
              "6   4.6  3.4  1.4  0.3\n",
              "7   5.0  3.4  1.5  0.2\n",
              "8   4.4  2.9  1.4  0.2\n",
              "9   4.9  3.1  1.5  0.1\n",
              "10  5.4  3.7  1.5  0.2\n",
              "11  4.8  3.4  1.6  0.2\n",
              "12  4.8  3.0  1.4  0.1\n",
              "13  4.3  3.0  1.1  0.1\n",
              "14  5.8  4.0  1.2  0.2\n",
              "15  5.7  4.4  1.5  0.4\n",
              "16  5.4  3.9  1.3  0.4\n",
              "17  5.1  3.5  1.4  0.3\n",
              "18  5.7  3.8  1.7  0.3\n",
              "19  5.1  3.8  1.5  0.3\n",
              "20  5.4  3.4  1.7  0.2\n",
              "21  5.1  3.7  1.5  0.4\n",
              "22  4.6  3.6  1.0  0.2\n",
              "23  5.1  3.3  1.7  0.5\n",
              "24  4.8  3.4  1.9  0.2\n",
              "25  5.0  3.0  1.6  0.2\n",
              "26  5.0  3.4  1.6  0.4\n",
              "27  5.2  3.5  1.5  0.2\n",
              "28  5.2  3.4  1.4  0.2\n",
              "29  4.7  3.2  1.6  0.2\n",
              "30  4.8  3.1  1.6  0.2\n",
              "31  5.4  3.4  1.5  0.4\n",
              "32  5.2  4.1  1.5  0.1\n",
              "33  5.5  4.2  1.4  0.2\n",
              "34  4.9  3.1  1.5  0.2\n",
              "35  5.0  3.2  1.2  0.2\n",
              "36  5.5  3.5  1.3  0.2\n",
              "37  4.9  3.6  1.4  0.1\n",
              "38  4.4  3.0  1.3  0.2\n",
              "39  5.1  3.4  1.5  0.2\n",
              "40  5.0  3.5  1.3  0.3\n",
              "41  4.5  2.3  1.3  0.3\n",
              "42  4.4  3.2  1.3  0.2\n",
              "43  5.0  3.5  1.6  0.6\n",
              "44  5.1  3.8  1.9  0.4\n",
              "45  4.8  3.0  1.4  0.3\n",
              "46  5.1  3.8  1.6  0.2\n",
              "47  4.6  3.2  1.4  0.2\n",
              "48  5.3  3.7  1.5  0.2\n",
              "49  5.0  3.3  1.4  0.2"
            ],
            "text/html": [
              "\n",
              "  <div id=\"df-219b3f94-3d64-4b07-bb8f-91c4f6f3d649\">\n",
              "    <div class=\"colab-df-container\">\n",
              "      <div>\n",
              "<style scoped>\n",
              "    .dataframe tbody tr th:only-of-type {\n",
              "        vertical-align: middle;\n",
              "    }\n",
              "\n",
              "    .dataframe tbody tr th {\n",
              "        vertical-align: top;\n",
              "    }\n",
              "\n",
              "    .dataframe thead th {\n",
              "        text-align: right;\n",
              "    }\n",
              "</style>\n",
              "<table border=\"1\" class=\"dataframe\">\n",
              "  <thead>\n",
              "    <tr style=\"text-align: right;\">\n",
              "      <th></th>\n",
              "      <th>0</th>\n",
              "      <th>1</th>\n",
              "      <th>2</th>\n",
              "      <th>3</th>\n",
              "    </tr>\n",
              "  </thead>\n",
              "  <tbody>\n",
              "    <tr>\n",
              "      <th>0</th>\n",
              "      <td>5.1</td>\n",
              "      <td>3.5</td>\n",
              "      <td>1.4</td>\n",
              "      <td>0.2</td>\n",
              "    </tr>\n",
              "    <tr>\n",
              "      <th>1</th>\n",
              "      <td>4.9</td>\n",
              "      <td>3.0</td>\n",
              "      <td>1.4</td>\n",
              "      <td>0.2</td>\n",
              "    </tr>\n",
              "    <tr>\n",
              "      <th>2</th>\n",
              "      <td>4.7</td>\n",
              "      <td>3.2</td>\n",
              "      <td>1.3</td>\n",
              "      <td>0.2</td>\n",
              "    </tr>\n",
              "    <tr>\n",
              "      <th>3</th>\n",
              "      <td>4.6</td>\n",
              "      <td>3.1</td>\n",
              "      <td>1.5</td>\n",
              "      <td>0.2</td>\n",
              "    </tr>\n",
              "    <tr>\n",
              "      <th>4</th>\n",
              "      <td>5.0</td>\n",
              "      <td>3.6</td>\n",
              "      <td>1.4</td>\n",
              "      <td>0.2</td>\n",
              "    </tr>\n",
              "    <tr>\n",
              "      <th>5</th>\n",
              "      <td>5.4</td>\n",
              "      <td>3.9</td>\n",
              "      <td>1.7</td>\n",
              "      <td>0.4</td>\n",
              "    </tr>\n",
              "    <tr>\n",
              "      <th>6</th>\n",
              "      <td>4.6</td>\n",
              "      <td>3.4</td>\n",
              "      <td>1.4</td>\n",
              "      <td>0.3</td>\n",
              "    </tr>\n",
              "    <tr>\n",
              "      <th>7</th>\n",
              "      <td>5.0</td>\n",
              "      <td>3.4</td>\n",
              "      <td>1.5</td>\n",
              "      <td>0.2</td>\n",
              "    </tr>\n",
              "    <tr>\n",
              "      <th>8</th>\n",
              "      <td>4.4</td>\n",
              "      <td>2.9</td>\n",
              "      <td>1.4</td>\n",
              "      <td>0.2</td>\n",
              "    </tr>\n",
              "    <tr>\n",
              "      <th>9</th>\n",
              "      <td>4.9</td>\n",
              "      <td>3.1</td>\n",
              "      <td>1.5</td>\n",
              "      <td>0.1</td>\n",
              "    </tr>\n",
              "    <tr>\n",
              "      <th>10</th>\n",
              "      <td>5.4</td>\n",
              "      <td>3.7</td>\n",
              "      <td>1.5</td>\n",
              "      <td>0.2</td>\n",
              "    </tr>\n",
              "    <tr>\n",
              "      <th>11</th>\n",
              "      <td>4.8</td>\n",
              "      <td>3.4</td>\n",
              "      <td>1.6</td>\n",
              "      <td>0.2</td>\n",
              "    </tr>\n",
              "    <tr>\n",
              "      <th>12</th>\n",
              "      <td>4.8</td>\n",
              "      <td>3.0</td>\n",
              "      <td>1.4</td>\n",
              "      <td>0.1</td>\n",
              "    </tr>\n",
              "    <tr>\n",
              "      <th>13</th>\n",
              "      <td>4.3</td>\n",
              "      <td>3.0</td>\n",
              "      <td>1.1</td>\n",
              "      <td>0.1</td>\n",
              "    </tr>\n",
              "    <tr>\n",
              "      <th>14</th>\n",
              "      <td>5.8</td>\n",
              "      <td>4.0</td>\n",
              "      <td>1.2</td>\n",
              "      <td>0.2</td>\n",
              "    </tr>\n",
              "    <tr>\n",
              "      <th>15</th>\n",
              "      <td>5.7</td>\n",
              "      <td>4.4</td>\n",
              "      <td>1.5</td>\n",
              "      <td>0.4</td>\n",
              "    </tr>\n",
              "    <tr>\n",
              "      <th>16</th>\n",
              "      <td>5.4</td>\n",
              "      <td>3.9</td>\n",
              "      <td>1.3</td>\n",
              "      <td>0.4</td>\n",
              "    </tr>\n",
              "    <tr>\n",
              "      <th>17</th>\n",
              "      <td>5.1</td>\n",
              "      <td>3.5</td>\n",
              "      <td>1.4</td>\n",
              "      <td>0.3</td>\n",
              "    </tr>\n",
              "    <tr>\n",
              "      <th>18</th>\n",
              "      <td>5.7</td>\n",
              "      <td>3.8</td>\n",
              "      <td>1.7</td>\n",
              "      <td>0.3</td>\n",
              "    </tr>\n",
              "    <tr>\n",
              "      <th>19</th>\n",
              "      <td>5.1</td>\n",
              "      <td>3.8</td>\n",
              "      <td>1.5</td>\n",
              "      <td>0.3</td>\n",
              "    </tr>\n",
              "    <tr>\n",
              "      <th>20</th>\n",
              "      <td>5.4</td>\n",
              "      <td>3.4</td>\n",
              "      <td>1.7</td>\n",
              "      <td>0.2</td>\n",
              "    </tr>\n",
              "    <tr>\n",
              "      <th>21</th>\n",
              "      <td>5.1</td>\n",
              "      <td>3.7</td>\n",
              "      <td>1.5</td>\n",
              "      <td>0.4</td>\n",
              "    </tr>\n",
              "    <tr>\n",
              "      <th>22</th>\n",
              "      <td>4.6</td>\n",
              "      <td>3.6</td>\n",
              "      <td>1.0</td>\n",
              "      <td>0.2</td>\n",
              "    </tr>\n",
              "    <tr>\n",
              "      <th>23</th>\n",
              "      <td>5.1</td>\n",
              "      <td>3.3</td>\n",
              "      <td>1.7</td>\n",
              "      <td>0.5</td>\n",
              "    </tr>\n",
              "    <tr>\n",
              "      <th>24</th>\n",
              "      <td>4.8</td>\n",
              "      <td>3.4</td>\n",
              "      <td>1.9</td>\n",
              "      <td>0.2</td>\n",
              "    </tr>\n",
              "    <tr>\n",
              "      <th>25</th>\n",
              "      <td>5.0</td>\n",
              "      <td>3.0</td>\n",
              "      <td>1.6</td>\n",
              "      <td>0.2</td>\n",
              "    </tr>\n",
              "    <tr>\n",
              "      <th>26</th>\n",
              "      <td>5.0</td>\n",
              "      <td>3.4</td>\n",
              "      <td>1.6</td>\n",
              "      <td>0.4</td>\n",
              "    </tr>\n",
              "    <tr>\n",
              "      <th>27</th>\n",
              "      <td>5.2</td>\n",
              "      <td>3.5</td>\n",
              "      <td>1.5</td>\n",
              "      <td>0.2</td>\n",
              "    </tr>\n",
              "    <tr>\n",
              "      <th>28</th>\n",
              "      <td>5.2</td>\n",
              "      <td>3.4</td>\n",
              "      <td>1.4</td>\n",
              "      <td>0.2</td>\n",
              "    </tr>\n",
              "    <tr>\n",
              "      <th>29</th>\n",
              "      <td>4.7</td>\n",
              "      <td>3.2</td>\n",
              "      <td>1.6</td>\n",
              "      <td>0.2</td>\n",
              "    </tr>\n",
              "    <tr>\n",
              "      <th>30</th>\n",
              "      <td>4.8</td>\n",
              "      <td>3.1</td>\n",
              "      <td>1.6</td>\n",
              "      <td>0.2</td>\n",
              "    </tr>\n",
              "    <tr>\n",
              "      <th>31</th>\n",
              "      <td>5.4</td>\n",
              "      <td>3.4</td>\n",
              "      <td>1.5</td>\n",
              "      <td>0.4</td>\n",
              "    </tr>\n",
              "    <tr>\n",
              "      <th>32</th>\n",
              "      <td>5.2</td>\n",
              "      <td>4.1</td>\n",
              "      <td>1.5</td>\n",
              "      <td>0.1</td>\n",
              "    </tr>\n",
              "    <tr>\n",
              "      <th>33</th>\n",
              "      <td>5.5</td>\n",
              "      <td>4.2</td>\n",
              "      <td>1.4</td>\n",
              "      <td>0.2</td>\n",
              "    </tr>\n",
              "    <tr>\n",
              "      <th>34</th>\n",
              "      <td>4.9</td>\n",
              "      <td>3.1</td>\n",
              "      <td>1.5</td>\n",
              "      <td>0.2</td>\n",
              "    </tr>\n",
              "    <tr>\n",
              "      <th>35</th>\n",
              "      <td>5.0</td>\n",
              "      <td>3.2</td>\n",
              "      <td>1.2</td>\n",
              "      <td>0.2</td>\n",
              "    </tr>\n",
              "    <tr>\n",
              "      <th>36</th>\n",
              "      <td>5.5</td>\n",
              "      <td>3.5</td>\n",
              "      <td>1.3</td>\n",
              "      <td>0.2</td>\n",
              "    </tr>\n",
              "    <tr>\n",
              "      <th>37</th>\n",
              "      <td>4.9</td>\n",
              "      <td>3.6</td>\n",
              "      <td>1.4</td>\n",
              "      <td>0.1</td>\n",
              "    </tr>\n",
              "    <tr>\n",
              "      <th>38</th>\n",
              "      <td>4.4</td>\n",
              "      <td>3.0</td>\n",
              "      <td>1.3</td>\n",
              "      <td>0.2</td>\n",
              "    </tr>\n",
              "    <tr>\n",
              "      <th>39</th>\n",
              "      <td>5.1</td>\n",
              "      <td>3.4</td>\n",
              "      <td>1.5</td>\n",
              "      <td>0.2</td>\n",
              "    </tr>\n",
              "    <tr>\n",
              "      <th>40</th>\n",
              "      <td>5.0</td>\n",
              "      <td>3.5</td>\n",
              "      <td>1.3</td>\n",
              "      <td>0.3</td>\n",
              "    </tr>\n",
              "    <tr>\n",
              "      <th>41</th>\n",
              "      <td>4.5</td>\n",
              "      <td>2.3</td>\n",
              "      <td>1.3</td>\n",
              "      <td>0.3</td>\n",
              "    </tr>\n",
              "    <tr>\n",
              "      <th>42</th>\n",
              "      <td>4.4</td>\n",
              "      <td>3.2</td>\n",
              "      <td>1.3</td>\n",
              "      <td>0.2</td>\n",
              "    </tr>\n",
              "    <tr>\n",
              "      <th>43</th>\n",
              "      <td>5.0</td>\n",
              "      <td>3.5</td>\n",
              "      <td>1.6</td>\n",
              "      <td>0.6</td>\n",
              "    </tr>\n",
              "    <tr>\n",
              "      <th>44</th>\n",
              "      <td>5.1</td>\n",
              "      <td>3.8</td>\n",
              "      <td>1.9</td>\n",
              "      <td>0.4</td>\n",
              "    </tr>\n",
              "    <tr>\n",
              "      <th>45</th>\n",
              "      <td>4.8</td>\n",
              "      <td>3.0</td>\n",
              "      <td>1.4</td>\n",
              "      <td>0.3</td>\n",
              "    </tr>\n",
              "    <tr>\n",
              "      <th>46</th>\n",
              "      <td>5.1</td>\n",
              "      <td>3.8</td>\n",
              "      <td>1.6</td>\n",
              "      <td>0.2</td>\n",
              "    </tr>\n",
              "    <tr>\n",
              "      <th>47</th>\n",
              "      <td>4.6</td>\n",
              "      <td>3.2</td>\n",
              "      <td>1.4</td>\n",
              "      <td>0.2</td>\n",
              "    </tr>\n",
              "    <tr>\n",
              "      <th>48</th>\n",
              "      <td>5.3</td>\n",
              "      <td>3.7</td>\n",
              "      <td>1.5</td>\n",
              "      <td>0.2</td>\n",
              "    </tr>\n",
              "    <tr>\n",
              "      <th>49</th>\n",
              "      <td>5.0</td>\n",
              "      <td>3.3</td>\n",
              "      <td>1.4</td>\n",
              "      <td>0.2</td>\n",
              "    </tr>\n",
              "  </tbody>\n",
              "</table>\n",
              "</div>\n",
              "      <button class=\"colab-df-convert\" onclick=\"convertToInteractive('df-219b3f94-3d64-4b07-bb8f-91c4f6f3d649')\"\n",
              "              title=\"Convert this dataframe to an interactive table.\"\n",
              "              style=\"display:none;\">\n",
              "        \n",
              "  <svg xmlns=\"http://www.w3.org/2000/svg\" height=\"24px\"viewBox=\"0 0 24 24\"\n",
              "       width=\"24px\">\n",
              "    <path d=\"M0 0h24v24H0V0z\" fill=\"none\"/>\n",
              "    <path d=\"M18.56 5.44l.94 2.06.94-2.06 2.06-.94-2.06-.94-.94-2.06-.94 2.06-2.06.94zm-11 1L8.5 8.5l.94-2.06 2.06-.94-2.06-.94L8.5 2.5l-.94 2.06-2.06.94zm10 10l.94 2.06.94-2.06 2.06-.94-2.06-.94-.94-2.06-.94 2.06-2.06.94z\"/><path d=\"M17.41 7.96l-1.37-1.37c-.4-.4-.92-.59-1.43-.59-.52 0-1.04.2-1.43.59L10.3 9.45l-7.72 7.72c-.78.78-.78 2.05 0 2.83L4 21.41c.39.39.9.59 1.41.59.51 0 1.02-.2 1.41-.59l7.78-7.78 2.81-2.81c.8-.78.8-2.07 0-2.86zM5.41 20L4 18.59l7.72-7.72 1.47 1.35L5.41 20z\"/>\n",
              "  </svg>\n",
              "      </button>\n",
              "      \n",
              "  <style>\n",
              "    .colab-df-container {\n",
              "      display:flex;\n",
              "      flex-wrap:wrap;\n",
              "      gap: 12px;\n",
              "    }\n",
              "\n",
              "    .colab-df-convert {\n",
              "      background-color: #E8F0FE;\n",
              "      border: none;\n",
              "      border-radius: 50%;\n",
              "      cursor: pointer;\n",
              "      display: none;\n",
              "      fill: #1967D2;\n",
              "      height: 32px;\n",
              "      padding: 0 0 0 0;\n",
              "      width: 32px;\n",
              "    }\n",
              "\n",
              "    .colab-df-convert:hover {\n",
              "      background-color: #E2EBFA;\n",
              "      box-shadow: 0px 1px 2px rgba(60, 64, 67, 0.3), 0px 1px 3px 1px rgba(60, 64, 67, 0.15);\n",
              "      fill: #174EA6;\n",
              "    }\n",
              "\n",
              "    [theme=dark] .colab-df-convert {\n",
              "      background-color: #3B4455;\n",
              "      fill: #D2E3FC;\n",
              "    }\n",
              "\n",
              "    [theme=dark] .colab-df-convert:hover {\n",
              "      background-color: #434B5C;\n",
              "      box-shadow: 0px 1px 3px 1px rgba(0, 0, 0, 0.15);\n",
              "      filter: drop-shadow(0px 1px 2px rgba(0, 0, 0, 0.3));\n",
              "      fill: #FFFFFF;\n",
              "    }\n",
              "  </style>\n",
              "\n",
              "      <script>\n",
              "        const buttonEl =\n",
              "          document.querySelector('#df-219b3f94-3d64-4b07-bb8f-91c4f6f3d649 button.colab-df-convert');\n",
              "        buttonEl.style.display =\n",
              "          google.colab.kernel.accessAllowed ? 'block' : 'none';\n",
              "\n",
              "        async function convertToInteractive(key) {\n",
              "          const element = document.querySelector('#df-219b3f94-3d64-4b07-bb8f-91c4f6f3d649');\n",
              "          const dataTable =\n",
              "            await google.colab.kernel.invokeFunction('convertToInteractive',\n",
              "                                                     [key], {});\n",
              "          if (!dataTable) return;\n",
              "\n",
              "          const docLinkHtml = 'Like what you see? Visit the ' +\n",
              "            '<a target=\"_blank\" href=https://colab.research.google.com/notebooks/data_table.ipynb>data table notebook</a>'\n",
              "            + ' to learn more about interactive tables.';\n",
              "          element.innerHTML = '';\n",
              "          dataTable['output_type'] = 'display_data';\n",
              "          await google.colab.output.renderOutput(dataTable, element);\n",
              "          const docLink = document.createElement('div');\n",
              "          docLink.innerHTML = docLinkHtml;\n",
              "          element.appendChild(docLink);\n",
              "        }\n",
              "      </script>\n",
              "    </div>\n",
              "  </div>\n",
              "  "
            ]
          },
          "metadata": {},
          "execution_count": 62
        }
      ]
    },
    {
      "cell_type": "code",
      "source": [
        "X_train_1.shape\n",
        "Y_train_1.shape"
      ],
      "metadata": {
        "id": "xqEvQf7WdZV1",
        "colab": {
          "base_uri": "https://localhost:8080/"
        },
        "outputId": "6ffc842d-03dc-4ed6-80ff-d8cabe47e46b"
      },
      "execution_count": 63,
      "outputs": [
        {
          "output_type": "execute_result",
          "data": {
            "text/plain": [
              "(105,)"
            ]
          },
          "metadata": {},
          "execution_count": 63
        }
      ]
    },
    {
      "cell_type": "code",
      "source": [
        "iris_model = tf.keras.Sequential([\n",
        "    tf.keras.layers.Dense(60, activation='relu'),\n",
        "    tf.keras.layers.Dense(40, activation='relu'),\n",
        "    tf.keras.layers.Dense(20, activation='relu'),\n",
        "    tf.keras.layers.Dense(3, activation='softmax'),\n",
        "])\n"
      ],
      "metadata": {
        "id": "kNleJCAIdoP2"
      },
      "execution_count": 64,
      "outputs": []
    },
    {
      "cell_type": "code",
      "source": [
        "iris_model.compile(optimizer='adam',\n",
        "              loss = 'sparse_categorical_crossentropy',\n",
        "              metrics=['accuracy'])\n"
      ],
      "metadata": {
        "id": "ZI47-VLndpFG"
      },
      "execution_count": 65,
      "outputs": []
    },
    {
      "cell_type": "code",
      "source": [
        "iris_model.fit(X_train_1 , Y_train_1 , epochs=10)"
      ],
      "metadata": {
        "id": "fvTmFeVedsot",
        "colab": {
          "base_uri": "https://localhost:8080/"
        },
        "outputId": "3b28e69a-cbc5-44bb-dffc-077430d6e5a3"
      },
      "execution_count": 66,
      "outputs": [
        {
          "output_type": "stream",
          "name": "stdout",
          "text": [
            "Epoch 1/10\n",
            "4/4 [==============================] - 0s 4ms/step - loss: 1.0683 - accuracy: 0.3714\n",
            "Epoch 2/10\n",
            "4/4 [==============================] - 0s 3ms/step - loss: 0.9442 - accuracy: 0.6381\n",
            "Epoch 3/10\n",
            "4/4 [==============================] - 0s 3ms/step - loss: 0.8739 - accuracy: 0.6381\n",
            "Epoch 4/10\n",
            "4/4 [==============================] - 0s 6ms/step - loss: 0.8258 - accuracy: 0.8952\n",
            "Epoch 5/10\n",
            "4/4 [==============================] - 0s 4ms/step - loss: 0.7716 - accuracy: 0.9333\n",
            "Epoch 6/10\n",
            "4/4 [==============================] - 0s 4ms/step - loss: 0.7294 - accuracy: 0.9524\n",
            "Epoch 7/10\n",
            "4/4 [==============================] - 0s 3ms/step - loss: 0.6830 - accuracy: 0.9333\n",
            "Epoch 8/10\n",
            "4/4 [==============================] - 0s 3ms/step - loss: 0.6458 - accuracy: 0.9810\n",
            "Epoch 9/10\n",
            "4/4 [==============================] - 0s 3ms/step - loss: 0.6104 - accuracy: 0.9619\n",
            "Epoch 10/10\n",
            "4/4 [==============================] - 0s 3ms/step - loss: 0.5768 - accuracy: 0.9524\n"
          ]
        },
        {
          "output_type": "execute_result",
          "data": {
            "text/plain": [
              "<keras.callbacks.History at 0x7fb1d01d3100>"
            ]
          },
          "metadata": {},
          "execution_count": 66
        }
      ]
    },
    {
      "cell_type": "markdown",
      "source": [
        "For the previous two models the data used was pretty simple. Now work with some images. \n",
        "\n",
        "Can get the dataset in a similar manner using tensorflow. \n",
        "\n",
        "So refer tensorflow documentation and this time build a Convolution neural network. \n",
        "\n",
        "Read this for reference-https://www.tensorflow.org/tutorials/images/cnn"
      ],
      "metadata": {
        "id": "Ubl8HMTKtnNU"
      }
    },
    {
      "cell_type": "code",
      "source": [
        "#code \n",
        "\n",
        "(train_img,train_labels),(test_img,test_labels)= tf.keras.datasets.cifar10.load_data()"
      ],
      "metadata": {
        "id": "fYHC7jBkoUWI"
      },
      "execution_count": 67,
      "outputs": []
    },
    {
      "cell_type": "code",
      "source": [
        "train_img.shape "
      ],
      "metadata": {
        "id": "7wZnGJj2oV97",
        "colab": {
          "base_uri": "https://localhost:8080/"
        },
        "outputId": "1d4f1a2d-81b4-4ac2-a02c-8bf0afe256b9"
      },
      "execution_count": 68,
      "outputs": [
        {
          "output_type": "execute_result",
          "data": {
            "text/plain": [
              "(50000, 32, 32, 3)"
            ]
          },
          "metadata": {},
          "execution_count": 68
        }
      ]
    },
    {
      "cell_type": "code",
      "source": [
        "train_labels_df=pandas.DataFrame(train_labels)\n",
        "train_labels_df.head"
      ],
      "metadata": {
        "id": "m61A3Un4o1VR",
        "colab": {
          "base_uri": "https://localhost:8080/"
        },
        "outputId": "ecbbde75-c894-4b08-cf58-5f1977a74f6f"
      },
      "execution_count": 69,
      "outputs": [
        {
          "output_type": "execute_result",
          "data": {
            "text/plain": [
              "<bound method NDFrame.head of        0\n",
              "0      6\n",
              "1      9\n",
              "2      9\n",
              "3      4\n",
              "4      1\n",
              "...   ..\n",
              "49995  2\n",
              "49996  6\n",
              "49997  9\n",
              "49998  1\n",
              "49999  1\n",
              "\n",
              "[50000 rows x 1 columns]>"
            ]
          },
          "metadata": {},
          "execution_count": 69
        }
      ]
    },
    {
      "cell_type": "code",
      "source": [
        "label_names = ['airplane', 'automobile', 'bird', 'cat', 'deer',\n",
        "               'dog', 'frog', 'horse', 'ship', 'truck']"
      ],
      "metadata": {
        "id": "sP81Fszqo2HO"
      },
      "execution_count": 70,
      "outputs": []
    },
    {
      "cell_type": "code",
      "source": [
        "train_img = train_img/255\n",
        "test_img = test_img/255"
      ],
      "metadata": {
        "id": "kk3MfH77pPsR"
      },
      "execution_count": 71,
      "outputs": []
    },
    {
      "cell_type": "code",
      "source": [
        "train_img[5]"
      ],
      "metadata": {
        "id": "ZHOdCLvLpTp2",
        "colab": {
          "base_uri": "https://localhost:8080/"
        },
        "outputId": "288da330-8495-4e5e-d898-323e4ba2b10e"
      },
      "execution_count": 72,
      "outputs": [
        {
          "output_type": "execute_result",
          "data": {
            "text/plain": [
              "array([[[0.62352941, 0.4       , 0.39607843],\n",
              "        [0.58823529, 0.35686275, 0.37254902],\n",
              "        [0.6       , 0.37254902, 0.38039216],\n",
              "        ...,\n",
              "        [0.35686275, 0.27843137, 0.21960784],\n",
              "        [0.29019608, 0.24705882, 0.21568627],\n",
              "        [0.29803922, 0.22745098, 0.21568627]],\n",
              "\n",
              "       [[0.55686275, 0.29411765, 0.26666667],\n",
              "        [0.57254902, 0.28235294, 0.25882353],\n",
              "        [0.60784314, 0.29803922, 0.25490196],\n",
              "        ...,\n",
              "        [0.49803922, 0.41176471, 0.27843137],\n",
              "        [0.47843137, 0.43529412, 0.36470588],\n",
              "        [0.3372549 , 0.27058824, 0.23921569]],\n",
              "\n",
              "       [[0.42745098, 0.2627451 , 0.29411765],\n",
              "        [0.38823529, 0.22745098, 0.23529412],\n",
              "        [0.41176471, 0.23137255, 0.20392157],\n",
              "        ...,\n",
              "        [0.5372549 , 0.43921569, 0.31372549],\n",
              "        [0.63921569, 0.51764706, 0.41176471],\n",
              "        [0.36470588, 0.28235294, 0.27843137]],\n",
              "\n",
              "       ...,\n",
              "\n",
              "       [[0.95686275, 0.50588235, 0.2745098 ],\n",
              "        [0.94117647, 0.48235294, 0.25490196],\n",
              "        [0.94509804, 0.47843137, 0.25490196],\n",
              "        ...,\n",
              "        [0.61176471, 0.16470588, 0.05882353],\n",
              "        [0.70196078, 0.23137255, 0.10196078],\n",
              "        [0.78431373, 0.28627451, 0.14117647]],\n",
              "\n",
              "       [[0.96470588, 0.52156863, 0.29019608],\n",
              "        [0.95294118, 0.50196078, 0.28235294],\n",
              "        [0.95294118, 0.49803922, 0.2745098 ],\n",
              "        ...,\n",
              "        [0.63529412, 0.17254902, 0.05490196],\n",
              "        [0.69803922, 0.21960784, 0.08627451],\n",
              "        [0.75294118, 0.25490196, 0.10588235]],\n",
              "\n",
              "       [[0.96470588, 0.54509804, 0.32156863],\n",
              "        [0.95294118, 0.52156863, 0.30588235],\n",
              "        [0.95686275, 0.51764706, 0.30196078],\n",
              "        ...,\n",
              "        [0.65098039, 0.18431373, 0.05490196],\n",
              "        [0.67843137, 0.2       , 0.06666667],\n",
              "        [0.71372549, 0.22352941, 0.0745098 ]]])"
            ]
          },
          "metadata": {},
          "execution_count": 72
        }
      ]
    },
    {
      "cell_type": "code",
      "source": [
        "cnn_model = tf.keras.models.Sequential([\n",
        "        tf.keras.layers.Conv2D(Filters = 32, Kernal_size = (3, 3), activation='relu', input_shape = (32, 32, 3))\n",
        "        tf.keras.layers.MaxPooling2D(pool_size = (2, 2))\n",
        "        tf.keras.layers.Conv2D(Filters = 64, Kernal_size = (3, 3), activation='relu')\n",
        "        tf.keras.layers.MaxPooling2D(pool_size = (2, 2))\n",
        "])"
      ],
      "metadata": {
        "id": "PeMyAGkKugXb",
        "colab": {
          "base_uri": "https://localhost:8080/",
          "height": 133
        },
        "outputId": "fb9695a0-4e00-4f1f-c91d-aecfa469915f"
      },
      "execution_count": 73,
      "outputs": [
        {
          "output_type": "error",
          "ename": "SyntaxError",
          "evalue": "ignored",
          "traceback": [
            "\u001b[0;36m  File \u001b[0;32m\"<ipython-input-73-7d4e6cdc76d0>\"\u001b[0;36m, line \u001b[0;32m3\u001b[0m\n\u001b[0;31m    tf.keras.layers.MaxPooling2D(pool_size = (2, 2))\u001b[0m\n\u001b[0m    ^\u001b[0m\n\u001b[0;31mSyntaxError\u001b[0m\u001b[0;31m:\u001b[0m invalid syntax\n"
          ]
        }
      ]
    },
    {
      "cell_type": "code",
      "source": [
        "cnn_model.add(tf.keras.layers.Flatten())\n",
        "cnn_model.add(tf.keras.layers.Dense(units = 128, activation = 'relu'))\n",
        "cnn_model.add(tf.keras.layers.Dense(units = 64, activation = 'relu'))\n",
        "cnn_model.add(tf.keras.layers.Dense(units = 10, activation = 'softmax'))"
      ],
      "metadata": {
        "id": "aqggOPzImv3r"
      },
      "execution_count": null,
      "outputs": []
    },
    {
      "cell_type": "code",
      "source": [
        "cnn_model.compile(optimizer='adam',\n",
        "              loss = 'categorical_crossentropy',\n",
        "              metrics=['accuracy'])\n"
      ],
      "metadata": {
        "id": "riED7upqhSlQ"
      },
      "execution_count": null,
      "outputs": []
    },
    {
      "cell_type": "code",
      "source": [
        "len(cnn_model.layers)"
      ],
      "metadata": {
        "id": "kmaitq_bpxlo"
      },
      "execution_count": null,
      "outputs": []
    },
    {
      "cell_type": "code",
      "source": [
        "# Training the model\n",
        "cnn_model.fit(test_img , test_labels , epochs=10 , verbose = 2)"
      ],
      "metadata": {
        "id": "KtzdDR1BxF1M"
      },
      "execution_count": null,
      "outputs": []
    },
    {
      "cell_type": "code",
      "source": [
        "# Making predictions\n",
        "\n",
        "accuracy_cnn = cnn_model.evaluate(test_img,test_labels,batch_size=128,verbose =2)\n",
        "predict_cnn = cnn_model.predict(test_img)\n",
        "print('Test accuracy:', accuracy_cnn)"
      ],
      "metadata": {
        "id": "HAG8Y7uHp4OA"
      },
      "execution_count": null,
      "outputs": []
    },
    {
      "cell_type": "code",
      "source": [
        "corr=0\n",
        "incorr=0\n",
        "\n",
        "for i in range(20):\n",
        "    if np.argmax(predict_cnn[i]) != test_labels[i][0]:\n",
        "      incorr+=1\n",
        "    else:\n",
        "      corr+=1\n",
        "    print(\"\\n\")\n",
        "accuracy = corr / (corr + incorr)\n",
        "print(f\"Accuracy: {accuracy:.2f}\")\n"
      ],
      "metadata": {
        "id": "VFO6B--dhUuo"
      },
      "execution_count": null,
      "outputs": []
    }
  ]
}